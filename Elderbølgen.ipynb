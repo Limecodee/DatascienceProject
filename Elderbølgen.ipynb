{
 "cells": [
  {
   "cell_type": "markdown",
   "id": "eab7cab8",
   "metadata": {},
   "source": [
    "Objective:\n",
    "To forecast the impact of the 'Eldrebølgen' (Aging Wave) on the demand for Sykepleier, Helsefagarbeider, and Hjelpepleier across Norway's regions.\n",
    "\n",
    "Research Question:\n",
    "How is the 'Eldrebølgen' expected to affect the demand for these healthcare professions in different regions of Norway?"
   ]
  },
  {
   "cell_type": "markdown",
   "id": "65d1ba69",
   "metadata": {},
   "source": [
    "Why Sykepleier, Helsefagarbeider, and Hjelpepleier?\n",
    "\n",
    "\n",
    "Helsefagarbeider, Sykepleier, and Hjelpepleier are chosen for their pivotal roles in providing comprehensive, frontline care, especially to the elderly who are the most frequent users of healthcare services. Their versatility, accessibility, and foundational presence in the healthcare system make them critical in addressing the challenges posed by the 'Eldrebølgen'. Focusing on these professions provides valuable insights into the overall preparedness of the healthcare system to meet the rising demand and ensures that the quality of care for the aging population is maintained."
   ]
  },
  {
   "cell_type": "markdown",
   "id": "7433f790",
   "metadata": {},
   "source": [
    "The research objective and question are pivotal in preparing for the inevitable challenges associated with the 'Eldrebølgen'. By anticipating changes in healthcare demand, Norway can proactively address potential shortages in healthcare staffing and ensure that the needs of its aging population are met."
   ]
  },
  {
   "cell_type": "markdown",
   "id": "3efff797",
   "metadata": {},
   "source": [
    "Answering the So What?:\n",
    "\n",
    "\n",
    "The necessity to address the demand for Helsefagarbeider, Sykepleier, and Hjelpepleier in anticipation of Norway's 'Eldrebølgen' is primarily a practical concern with far-reaching implications. The \"so what?\" factor lies in the tangible outcomes of this issue on our healthcare system and society at large.\n",
    "\n",
    "The importance of these professions transcends their job descriptions; they are crucial in maintaining the quality of care for the elderly population. Adequately meeting the demand for these roles is essential for the sustainability of our healthcare services. A shortfall in these critical areas could result in strained healthcare resources, decreased quality of care, and potentially higher healthcare expenses.\n",
    "\n",
    "Furthermore, the issue carries significant ethical weight. Providing sufficient care for the elderly is a societal responsibility and reflects our commitment to ensuring their well-being. The focus on Helsefagarbeider, Sykepleier, and Hjelpepleier is indicative of our societal resolve to support and care for our aging population. Essentially, the “so what?” is about pragmatic foresight. It's about recognizing and addressing the upcoming demographic changes proactively to ensure that our healthcare system remains robust and responsive to the needs of all citizens, especially the most vulnerable.\n",
    "\n",
    "\n",
    "\n",
    "\n"
   ]
  },
  {
   "cell_type": "code",
   "execution_count": 4,
   "id": "fde4b9a5",
   "metadata": {},
   "outputs": [
    {
     "data": {
      "text/html": [
       "<div>\n",
       "<style scoped>\n",
       "    .dataframe tbody tr th:only-of-type {\n",
       "        vertical-align: middle;\n",
       "    }\n",
       "\n",
       "    .dataframe tbody tr th {\n",
       "        vertical-align: top;\n",
       "    }\n",
       "\n",
       "    .dataframe thead th {\n",
       "        text-align: right;\n",
       "    }\n",
       "</style>\n",
       "<table border=\"1\" class=\"dataframe\">\n",
       "  <thead>\n",
       "    <tr style=\"text-align: right;\">\n",
       "      <th></th>\n",
       "      <th>region</th>\n",
       "      <th>fagutdanning</th>\n",
       "      <th>sektor</th>\n",
       "      <th>Sysselsatte 2022 Alle aldre</th>\n",
       "      <th>Sysselsatte 2022 15-66 år</th>\n",
       "      <th>Sysselsatte 2022 15-74 år</th>\n",
       "    </tr>\n",
       "  </thead>\n",
       "  <tbody>\n",
       "    <tr>\n",
       "      <th>0</th>\n",
       "      <td>3002 Moss</td>\n",
       "      <td>Hjelpepleier</td>\n",
       "      <td>Kommuneforvaltningen</td>\n",
       "      <td>247</td>\n",
       "      <td>217</td>\n",
       "      <td>244</td>\n",
       "    </tr>\n",
       "    <tr>\n",
       "      <th>1</th>\n",
       "      <td>3002 Moss</td>\n",
       "      <td>Hjelpepleier</td>\n",
       "      <td>Fylkeskommunal forvaltning</td>\n",
       "      <td>0</td>\n",
       "      <td>0</td>\n",
       "      <td>0</td>\n",
       "    </tr>\n",
       "    <tr>\n",
       "      <th>2</th>\n",
       "      <td>3002 Moss</td>\n",
       "      <td>Hjelpepleier</td>\n",
       "      <td>Statsforvaltningen</td>\n",
       "      <td>30</td>\n",
       "      <td>26</td>\n",
       "      <td>30</td>\n",
       "    </tr>\n",
       "    <tr>\n",
       "      <th>3</th>\n",
       "      <td>3002 Moss</td>\n",
       "      <td>Hjelpepleier</td>\n",
       "      <td>Privat sektor og offentlige foretak</td>\n",
       "      <td>26</td>\n",
       "      <td>21</td>\n",
       "      <td>26</td>\n",
       "    </tr>\n",
       "    <tr>\n",
       "      <th>4</th>\n",
       "      <td>3002 Moss</td>\n",
       "      <td>Hjelpepleier</td>\n",
       "      <td>Uoppgitt</td>\n",
       "      <td>0</td>\n",
       "      <td>0</td>\n",
       "      <td>0</td>\n",
       "    </tr>\n",
       "  </tbody>\n",
       "</table>\n",
       "</div>"
      ],
      "text/plain": [
       "      region  fagutdanning                               sektor  \\\n",
       "0  3002 Moss  Hjelpepleier                 Kommuneforvaltningen   \n",
       "1  3002 Moss  Hjelpepleier           Fylkeskommunal forvaltning   \n",
       "2  3002 Moss  Hjelpepleier                   Statsforvaltningen   \n",
       "3  3002 Moss  Hjelpepleier  Privat sektor og offentlige foretak   \n",
       "4  3002 Moss  Hjelpepleier                             Uoppgitt   \n",
       "\n",
       "  Sysselsatte 2022 Alle aldre Sysselsatte 2022 15-66 år  \\\n",
       "0                         247                       217   \n",
       "1                           0                         0   \n",
       "2                          30                        26   \n",
       "3                          26                        21   \n",
       "4                           0                         0   \n",
       "\n",
       "  Sysselsatte 2022 15-74 år  \n",
       "0                       244  \n",
       "1                         0  \n",
       "2                        30  \n",
       "3                        26  \n",
       "4                         0  "
      ]
     },
     "execution_count": 4,
     "metadata": {},
     "output_type": "execute_result"
    }
   ],
   "source": [
    "import pandas as pd\n",
    "\n",
    "# Load the CSV file, skip initial rows if necessary, and specify the delimiter\n",
    "df = pd.read_csv('/Users/lime/Desktop/Workforce2022.csv', delimiter=';', skiprows=1, header=1)\n",
    "\n",
    "# Display the first few rows of the dataframe\n",
    "df.head()\n"
   ]
  },
  {
   "cell_type": "code",
   "execution_count": 5,
   "id": "80a22e5a",
   "metadata": {},
   "outputs": [
    {
     "name": "stdout",
     "output_type": "stream",
     "text": [
      "          region  fagutdanning                               sektor  \\\n",
      "0      3002 Moss  Hjelpepleier                 Kommuneforvaltningen   \n",
      "1      3002 Moss  Hjelpepleier           Fylkeskommunal forvaltning   \n",
      "2      3002 Moss  Hjelpepleier                   Statsforvaltningen   \n",
      "3      3002 Moss  Hjelpepleier  Privat sektor og offentlige foretak   \n",
      "4      3002 Moss  Hjelpepleier                             Uoppgitt   \n",
      "..           ...           ...                                  ...   \n",
      "310  Total Total    Sykepleier                 Kommuneforvaltningen   \n",
      "311  Total Total    Sykepleier           Fylkeskommunal forvaltning   \n",
      "312  Total Total    Sykepleier                   Statsforvaltningen   \n",
      "313  Total Total    Sykepleier  Privat sektor og offentlige foretak   \n",
      "314  Total Total    Sykepleier                             Uoppgitt   \n",
      "\n",
      "    Sysselsatte 2022 Alle aldre Sysselsatte 2022 15-66 år  \\\n",
      "0                           247                       217   \n",
      "1                             0                         0   \n",
      "2                            30                        26   \n",
      "3                            26                        21   \n",
      "4                             0                         0   \n",
      "..                          ...                       ...   \n",
      "310                       15653                     15317   \n",
      "311                           6                         6   \n",
      "312                       29686                     29232   \n",
      "313                          ..                        ..   \n",
      "314                           0                         0   \n",
      "\n",
      "    Sysselsatte 2022 15-74 år  \n",
      "0                         244  \n",
      "1                           0  \n",
      "2                          30  \n",
      "3                          26  \n",
      "4                           0  \n",
      "..                        ...  \n",
      "310                     15638  \n",
      "311                         6  \n",
      "312                     29669  \n",
      "313                        ..  \n",
      "314                         0  \n",
      "\n",
      "[315 rows x 6 columns]\n"
     ]
    }
   ],
   "source": [
    "print(df)"
   ]
  },
  {
   "cell_type": "code",
   "execution_count": 10,
   "id": "9d843054",
   "metadata": {},
   "outputs": [
    {
     "data": {
      "text/plain": [
       "region                          object\n",
       "fagutdanning                    object\n",
       "sektor                          object\n",
       "Sysselsatte 2022 Alle aldre    float64\n",
       "Sysselsatte 2022 15-66 år       object\n",
       "Sysselsatte 2022 15-74 år       object\n",
       "dtype: object"
      ]
     },
     "execution_count": 10,
     "metadata": {},
     "output_type": "execute_result"
    }
   ],
   "source": [
    "df.dtypes"
   ]
  },
  {
   "cell_type": "code",
   "execution_count": 11,
   "id": "db459bb0",
   "metadata": {},
   "outputs": [
    {
     "name": "stdout",
     "output_type": "stream",
     "text": [
      "                      region  Sysselsatte 2022 Alle aldre\n",
      "0                  0301 Oslo                      18507.0\n",
      "1             1103 Stavanger                       5271.0\n",
      "2               1108 Sandnes                       1499.0\n",
      "3               1507 Ålesund                       2584.0\n",
      "4                  1804 Bodø                       2310.0\n",
      "5                  3002 Moss                       1452.0\n",
      "6             3003 Sarpsborg                       3523.0\n",
      "7           3004 Fredrikstad                       1965.0\n",
      "8               3005 Drammen                       3515.0\n",
      "9          3020 Nordre Follo                       1045.0\n",
      "10                3024 Bærum                       3132.0\n",
      "11                3025 Asker                       2275.0\n",
      "12           3030 Lillestrøm                       1590.0\n",
      "13             3803 Tønsberg                       2827.0\n",
      "14           3804 Sandefjord                       1477.0\n",
      "15                3807 Skien                       2478.0\n",
      "16         4204 Kristiansand                       3850.0\n",
      "17               4601 Bergen                      10102.0\n",
      "18  5001 Trondheim - Tråante                       7380.0\n",
      "19               5401 Tromsø                       3172.0\n",
      "20               Total Total                      69773.0\n"
     ]
    }
   ],
   "source": [
    "region_sum = df.groupby('region')['Sysselsatte 2022 Alle aldre'].sum().reset_index()\n",
    "\n",
    "# Display the result\n",
    "print(region_sum)"
   ]
  },
  {
   "cell_type": "code",
   "execution_count": 13,
   "id": "b0635416",
   "metadata": {},
   "outputs": [
    {
     "name": "stdout",
     "output_type": "stream",
     "text": [
      "fagutdanning              Helsefagarbeider  Hjelpepleier  Sykepleier\n",
      "region                                                              \n",
      "0301 Oslo                             3103          2189       13215\n",
      "1103 Stavanger                        1173           597        3501\n",
      "1108 Sandnes                           481           318         700\n",
      "1507 Ålesund                           431           414        1739\n",
      "1804 Bodø                              389           338        1583\n",
      "3002 Moss                              444           303         705\n",
      "3003 Sarpsborg                         820           429        2274\n",
      "3004 Fredrikstad                       730           392         843\n",
      "3005 Drammen                           759           629        2127\n",
      "3020 Nordre Follo                      324           214         507\n",
      "3024 Bærum                             796           462        1874\n",
      "3025 Asker                             710           514        1051\n",
      "3030 Lillestrøm                        484           364         742\n",
      "3803 Tønsberg                          517           355        1955\n",
      "3804 Sandefjord                        520           349         608\n",
      "3807 Skien                             425           489        1564\n",
      "4204 Kristiansand                      816           562        2472\n",
      "4601 Bergen                           1961          1221        6920\n",
      "5001 Trondheim - Tråante              1191          1038        5151\n",
      "5401 Tromsø                            492           403        2277\n",
      "Total Total                          14430          9998       45345\n"
     ]
    }
   ],
   "source": [
    "dfpivot_df = df.pivot_table(values='Sysselsatte 2022 Alle aldre', index='region', columns='fagutdanning', aggfunc='sum', fill_value=0)\n",
    "\n",
    "# Display the result\n",
    "print(dfpivot_df)"
   ]
  },
  {
   "cell_type": "code",
   "execution_count": null,
   "id": "b222cbe6",
   "metadata": {},
   "outputs": [],
   "source": []
  }
 ],
 "metadata": {
  "kernelspec": {
   "display_name": "Python 3 (ipykernel)",
   "language": "python",
   "name": "python3"
  },
  "language_info": {
   "codemirror_mode": {
    "name": "ipython",
    "version": 3
   },
   "file_extension": ".py",
   "mimetype": "text/x-python",
   "name": "python",
   "nbconvert_exporter": "python",
   "pygments_lexer": "ipython3",
   "version": "3.11.4"
  }
 },
 "nbformat": 4,
 "nbformat_minor": 5
}
